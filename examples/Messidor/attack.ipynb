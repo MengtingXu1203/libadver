{
 "cells": [
  {
   "cell_type": "markdown",
   "metadata": {},
   "source": [
    "# fundus data"
   ]
  },
  {
   "cell_type": "code",
   "execution_count": null,
   "metadata": {},
   "outputs": [],
   "source": [
    "import torch\n",
    "def test(clf):\n",
    "    print('\\n Test')\n",
    "    clf.eval()\n",
    "    correct = 0\n",
    "    total = 0\n",
    "    with torch.no_grad():\n",
    "        for batch_idx, (images,labels) in enumerate(testloader):\n",
    "            images,labels = images.cuda(),labels.cuda()\n",
    "            outputs, _, _ = clf(images)\n",
    "            #print(outputs)\n",
    "            predicted = torch.argmax(outputs,dim=1)\n",
    "            #print(labels)\n",
    "            #print(predicted)\n",
    "            total += labels.shape[0]\n",
    "            correct += predicted.eq(labels).sum()\n",
    "            print(batch_idx, len(testloader), ' Acc: %.3f%% (%d/%d)'\n",
    "                % (100.*float(correct)/total, correct, total))\n",
    "\n",
    "    acc = 100.*float(correct)/total\n",
    "    return acc"
   ]
  },
  {
   "cell_type": "code",
   "execution_count": 1,
   "metadata": {},
   "outputs": [
    {
     "name": "stderr",
     "output_type": "stream",
     "text": [
      "/home/lrh/program/git/pytorch-example/Adversarial_Perturbations/adversarial/libadver/libadver/utils.py:46: UserWarning: Code Running Environment is not in Terminal, we can not invoke progress_bar!!\n",
      "  warnings.warn(\"Code Running Environment is not in Terminal, we can not invoke progress_bar!!\")\n"
     ]
    },
    {
     "name": "stdout",
     "output_type": "stream",
     "text": [
      "=====> Load Data\n"
     ]
    }
   ],
   "source": [
    "import libadver.attack as attack\n",
    "import net\n",
    "import torch.backends.cudnn as cudnn\n",
    "from torchvision import  transforms\n",
    "import torchvision\n",
    "import torch\n",
    "\n",
    "pretrained_clf = net.AttnVGG(num_classes=2, attention=True, normalize_attn=True, dropout = 0.8)\n",
    "pretrained_clf = torch.nn.DataParallel(pretrained_clf)\n",
    "cudnn.benchmark = True\n",
    "\n",
    "model_file = \"messidor_attVGG_latest.pkl\"\n",
    "pretrained_clf.load_state_dict(torch.load(model_file))\n",
    "pretrained_clf = pretrained_clf.cuda()\n",
    "pretrained_clf.eval()\n",
    "\n",
    "print(\"=====> Load Data\")\n",
    "testRootDir = \"/store/dataset/messidor/binary_classification/test\"\n",
    "trainRootDir = \"/store/dataset/messidor/binary_classification/train\"\n",
    "testBatchSize = 16\n",
    "mean = (0.4914, 0.4822, 0.4465)\n",
    "std = (0.2023, 0.1994, 0.2010)\n",
    "test_transforms = transforms.Compose([\n",
    "    transforms.Resize(224),\n",
    "    transforms.ToTensor(),\n",
    "    transforms.Normalize(mean,std)\n",
    "])\n",
    "testset = torchvision.datasets.ImageFolder(testRootDir,transform=test_transforms)\n",
    "testloader = torch.utils.data.DataLoader(testset,batch_size=testBatchSize,shuffle=True,drop_last=False,num_workers=4)\n",
    "\n",
    "trainset = torchvision.datasets.ImageFolder(trainRootDir,transform=test_transforms)\n",
    "trainloader = torch.utils.data.DataLoader(trainset,batch_size=testBatchSize,shuffle=True,drop_last=False,num_workers=4)\n",
    "\n",
    "\n",
    "#test(pretrained_clf)\n"
   ]
  },
  {
   "cell_type": "code",
   "execution_count": null,
   "metadata": {},
   "outputs": [],
   "source": [
    "import numpy as np\n",
    "import torch\n",
    "pgd_params = {\n",
    "            'ord': np.inf,\n",
    "            'y': None,\n",
    "            'eps': 16.0 / 255,\n",
    "            'eps_iter': 2.55 / 255,\n",
    "            'nb_iter': 40,\n",
    "            'rand_init': True,\n",
    "            'rand_minmax': 16.0 / 255,\n",
    "            'clip_min': 0.,\n",
    "            'clip_max': 1.,\n",
    "            'sanity_checks': True\n",
    "        }\n",
    "\n",
    "\n",
    "import libadver.attack as attack\n",
    "\n",
    "PGDAttack = attack.ProjectGradientDescent(model = pretrained_clf)\n",
    "\n",
    "correct = 0\n",
    "total = 0\n",
    "for image,label in trainloader:\n",
    "    image, label = image.cuda(), label.cuda()\n",
    "    ## non targeted\n",
    "    pgd_params['y'] = label\n",
    "    pgd_params['clip_min'] = torch.min(image) \n",
    "    pgd_params['clip_max'] = torch.max(image)\n",
    "    \n",
    "    adv_x = PGDAttack.generate(image, **pgd_params)\n",
    "    #adv_x = image\n",
    "    outputs, _, _ = pretrained_clf(adv_x)\n",
    "    pred_adv = torch.argmax(outputs, dim = 1)\n",
    "    \n",
    "    for c in range(3):\n",
    "        adv_x.data[:,c,:,:] = (adv_x.data[:,c,:,:] * std[c]) + mean[c]\n",
    "        image.data[:,c,:,:] = (image.data[:,c,:,:] * std[c]) + mean[c]\n",
    "    torchvision.utils.save_image(adv_x, \"adv.png\", nrow = 4)\n",
    "    torchvision.utils.save_image(image, \"image.png\", nrow = 4)\n",
    "\n",
    "    total = total + image.size(0)\n",
    "    correct = correct + label.eq(pred_adv).sum()\n",
    "    print(\"ACC: %.4f (%d, %d)\" %(float(correct) / total, correct, total))"
   ]
  },
  {
   "cell_type": "code",
   "execution_count": null,
   "metadata": {},
   "outputs": [],
   "source": [
    "import libadver.attack as attack"
   ]
  },
  {
   "cell_type": "markdown",
   "metadata": {},
   "source": [
    "# Dermoscopy"
   ]
  },
  {
   "cell_type": "code",
   "execution_count": null,
   "metadata": {},
   "outputs": [],
   "source": []
  }
 ],
 "metadata": {
  "kernelspec": {
   "display_name": "Python 3",
   "language": "python",
   "name": "python3"
  },
  "language_info": {
   "codemirror_mode": {
    "name": "ipython",
    "version": 3
   },
   "file_extension": ".py",
   "mimetype": "text/x-python",
   "name": "python",
   "nbconvert_exporter": "python",
   "pygments_lexer": "ipython3",
   "version": "3.6.4"
  }
 },
 "nbformat": 4,
 "nbformat_minor": 2
}
